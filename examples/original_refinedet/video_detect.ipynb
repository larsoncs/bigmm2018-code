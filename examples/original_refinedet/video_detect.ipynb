{
 "cells": [
  {
   "cell_type": "code",
   "execution_count": 3,
   "metadata": {},
   "outputs": [],
   "source": [
    "import cv2\n",
    "videoCapture = cv2.VideoCapture('/home/dawn/yangwz/RESULT.avi')\n",
    "fourcc = cv2.VideoWriter_fourcc(*'MPEG')\n",
    "# fourcc = videoCapture.get(cv2.CV_CAP_PROP_FOURCC)\n",
    "# fps = videoCapture.get(cv2.cv.CV_CAP_PROP_FPS)  \n",
    "# size = (int(videoCapture.get(cv2.cv.CV_CAP_PROP_FRAME_WIDTH)),   \n",
    "#         int(videoCapture.get(cv2.cv.CV_CAP_PROP_FRAME_HEIGHT))) \n",
    "v = cv2.VideoWriter('/home/dawn/yangwz/RESULT_out.avi', fourcc, 25, (602,407))\n",
    "if not v.open:\n",
    "    print('videoWriter can not write!')\n",
    "success, frame = videoCapture.read()\n",
    "\n",
    "while success:\n",
    "    cv2.imshow('MyWindow', frame)\n",
    "    cv2.waitKey(1000/int(25))\n",
    "    v.write(frame)\n",
    "    if cv2.waitKey(1) & 0xFF == ord('q'):\n",
    "        break\n",
    "    else:\n",
    "        break\n",
    "    success, frame = videoCapture.read()\n",
    "\n",
    "videoCapture.release()\n",
    "v.release()\n",
    "cv2.destroyAllWindows()"
   ]
  },
  {
   "cell_type": "code",
   "execution_count": null,
   "metadata": {
    "collapsed": true
   },
   "outputs": [],
   "source": []
  }
 ],
 "metadata": {
  "kernelspec": {
   "display_name": "Python 2",
   "language": "python",
   "name": "python2"
  },
  "language_info": {
   "codemirror_mode": {
    "name": "ipython",
    "version": 2
   },
   "file_extension": ".py",
   "mimetype": "text/x-python",
   "name": "python",
   "nbconvert_exporter": "python",
   "pygments_lexer": "ipython2",
   "version": "2.7.12"
  }
 },
 "nbformat": 4,
 "nbformat_minor": 2
}
